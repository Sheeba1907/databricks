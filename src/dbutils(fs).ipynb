{
 "cells": [
  {
   "cell_type": "code",
   "execution_count": 0,
   "metadata": {
    "application/vnd.databricks.v1+cell": {
     "cellMetadata": {
      "byteLimit": 2048000,
      "rowLimit": 10000
     },
     "inputWidgets": {},
     "nuid": "8614c962-0d09-4cfa-a9d6-94dbea061c44",
     "showTitle": false,
     "tableResultSettingsMap": {},
     "title": ""
    }
   },
   "outputs": [],
   "source": [
    "#List files in your user directory\n",
    "dbutils.fs.ls(\"/Volumes/pyspark_practise/default/write\")"
   ]
  },
  {
   "cell_type": "code",
   "execution_count": 0,
   "metadata": {
    "application/vnd.databricks.v1+cell": {
     "cellMetadata": {
      "byteLimit": 2048000,
      "rowLimit": 10000
     },
     "inputWidgets": {},
     "nuid": "fb28bb21-0708-4fe0-b905-c728296e94d5",
     "showTitle": false,
     "tableResultSettingsMap": {},
     "title": ""
    }
   },
   "outputs": [],
   "source": [
    "#Create a folder\n",
    "dbutils.fs.mkdirs(\"/Volumes/pyspark_practise/default/dbutils/practise\")"
   ]
  },
  {
   "cell_type": "code",
   "execution_count": 0,
   "metadata": {
    "application/vnd.databricks.v1+cell": {
     "cellMetadata": {
      "byteLimit": 2048000,
      "rowLimit": 10000
     },
     "inputWidgets": {},
     "nuid": "49ae5267-ad47-4f5d-84a3-a4c83fa89b2f",
     "showTitle": false,
     "tableResultSettingsMap": {},
     "title": ""
    }
   },
   "outputs": [],
   "source": [
    "#Create a small file inside the folder\n",
    "dbutils.fs.put(\"/Volumes/pyspark_practise/default/dbutils/practise/sample.txt\", \"Hello, this is for databricks dbutils!\", overwrite=True)"
   ]
  },
  {
   "cell_type": "code",
   "execution_count": 0,
   "metadata": {
    "application/vnd.databricks.v1+cell": {
     "cellMetadata": {
      "byteLimit": 2048000,
      "rowLimit": 10000
     },
     "inputWidgets": {},
     "nuid": "32cd9101-bffd-4412-8521-017b8960660a",
     "showTitle": false,
     "tableResultSettingsMap": {},
     "title": ""
    }
   },
   "outputs": [],
   "source": [
    "#Read the content back\n",
    "dbutils.fs.head(\"/Volumes/pyspark_practise/default/dbutils/practise/sample.txt\")"
   ]
  },
  {
   "cell_type": "code",
   "execution_count": 0,
   "metadata": {
    "application/vnd.databricks.v1+cell": {
     "cellMetadata": {
      "byteLimit": 2048000,
      "rowLimit": 10000
     },
     "inputWidgets": {},
     "nuid": "5d91bd91-b7d2-4128-8370-d782bf1ee245",
     "showTitle": false,
     "tableResultSettingsMap": {},
     "title": ""
    }
   },
   "outputs": [],
   "source": [
    "#Copy the file\n",
    "dbutils.fs.cp(\"/Volumes/pyspark_practise/default/dbutils/practise/sample.txt\", \"/Volumes/pyspark_practise/default/dbutils/practise/sample1.txt\")\n",
    "dbutils.fs.ls(\"/Volumes/pyspark_practise/default/dbutils/practise\")"
   ]
  },
  {
   "cell_type": "code",
   "execution_count": 0,
   "metadata": {
    "application/vnd.databricks.v1+cell": {
     "cellMetadata": {
      "byteLimit": 2048000,
      "rowLimit": 10000
     },
     "inputWidgets": {},
     "nuid": "c1215521-eb04-48e1-9e89-e43a5df7e530",
     "showTitle": false,
     "tableResultSettingsMap": {},
     "title": ""
    }
   },
   "outputs": [],
   "source": [
    "#Move the file\n",
    "dbutils.fs.mv(\"/Volumes/pyspark_practise/default/dbutils/practise/sample.txt\", \"/Volumes/pyspark_practise/default/dbutils/practises/sample.txt\")\n",
    "dbutils.fs.ls(\"/Volumes/pyspark_practise/default/dbutils/practise\")"
   ]
  },
  {
   "cell_type": "code",
   "execution_count": 0,
   "metadata": {
    "application/vnd.databricks.v1+cell": {
     "cellMetadata": {
      "byteLimit": 2048000,
      "rowLimit": 10000
     },
     "inputWidgets": {},
     "nuid": "ff852a50-847a-40d2-a790-b6229629de55",
     "showTitle": false,
     "tableResultSettingsMap": {},
     "title": ""
    }
   },
   "outputs": [],
   "source": [
    "#Remove file or directory\n",
    "dbutils.fs.rm(\"/Volumes/pyspark_practise/default/dbutils/practises\", recurse=True)"
   ]
  }
 ],
 "metadata": {
  "application/vnd.databricks.v1+notebook": {
   "computePreferences": null,
   "dashboards": [],
   "environmentMetadata": {
    "base_environment": "",
    "environment_version": "4"
   },
   "inputWidgetPreferences": null,
   "language": "python",
   "notebookMetadata": {
    "pythonIndentUnit": 4
   },
   "notebookName": "dbutils(fs)",
   "widgets": {}
  },
  "language_info": {
   "name": "python"
  }
 },
 "nbformat": 4,
 "nbformat_minor": 0
}
