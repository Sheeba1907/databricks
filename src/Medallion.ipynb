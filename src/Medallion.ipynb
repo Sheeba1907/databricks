{
 "cells": [
  {
   "cell_type": "code",
   "execution_count": 0,
   "metadata": {
    "application/vnd.databricks.v1+cell": {
     "cellMetadata": {
      "byteLimit": 2048000,
      "rowLimit": 10000
     },
     "inputWidgets": {},
     "nuid": "636fe341-6cb7-4549-870b-53fc6e720d20",
     "showTitle": false,
     "tableResultSettingsMap": {},
     "title": ""
    }
   },
   "outputs": [],
   "source": [
    "#Create a sample dataframe\n",
    "data = [\n",
    "    (1, \"South\", \"Mobile\", 500, \"2023-10-01\"),\n",
    "    (2, \"South\", \"Laptop\", 800, \"2023-10-02\"),\n",
    "    (3, \"North\", \"Mobile\", None, \"2023-10-03\"),   # Missing amount\n",
    "    (4, \"East\", \"Tablet\", 650, \"2023-10-04\"),\n",
    "    (4, \"East\", \"Tablet\", 650, \"2023-10-04\"),     # Duplicate\n",
    "    (5, None, \"Mobile\", 550, \"2023-10-05\")        # Missing region\n",
    "]\n",
    "columns = [\"id\", \"region\", \"product\", \"amount\", \"date\"]\n",
    "bronze_df = spark.createDataFrame(data, columns).repartition(1)\n",
    "display(bronze_df)"
   ]
  },
  {
   "cell_type": "code",
   "execution_count": 0,
   "metadata": {
    "application/vnd.databricks.v1+cell": {
     "cellMetadata": {
      "byteLimit": 2048000,
      "rowLimit": 10000
     },
     "inputWidgets": {},
     "nuid": "3980aa8a-2fb7-447e-9105-bbbbbff570ba",
     "showTitle": false,
     "tableResultSettingsMap": {},
     "title": ""
    }
   },
   "outputs": [],
   "source": [
    "#Create a bronze layer and write to a path\n",
    "bronze_path = \"/Volumes/databricks_prac/medallion/practise/bronze\"\n",
    "bronze_df.write.mode(\"overwrite\").options(header=True).csv(bronze_path)\n",
    "print(bronze_path)"
   ]
  },
  {
   "cell_type": "code",
   "execution_count": 0,
   "metadata": {
    "application/vnd.databricks.v1+cell": {
     "cellMetadata": {
      "byteLimit": 2048000,
      "rowLimit": 10000
     },
     "inputWidgets": {},
     "nuid": "780bdeb2-14c9-4d0a-8730-dd52f0a3a429",
     "showTitle": false,
     "tableResultSettingsMap": {},
     "title": ""
    }
   },
   "outputs": [],
   "source": [
    "#Read bronze\n",
    "df_read = spark.read.csv(\"/Volumes/databricks_prac/medallion/practise/bronze\", header=True)\n",
    "display(df_read)"
   ]
  },
  {
   "cell_type": "code",
   "execution_count": 0,
   "metadata": {
    "application/vnd.databricks.v1+cell": {
     "cellMetadata": {
      "byteLimit": 2048000,
      "rowLimit": 10000
     },
     "inputWidgets": {},
     "nuid": "5579ac8f-1ad7-4903-9c44-8f45def97350",
     "showTitle": false,
     "tableResultSettingsMap": {
      "0": {
       "dataGridStateBlob": "{\"version\":1,\"tableState\":{\"columnPinning\":{\"left\":[\"#row_number#\"],\"right\":[]},\"columnSizing\":{},\"columnVisibility\":{}},\"settings\":{\"columns\":{}},\"syncTimestamp\":1760615777717}",
       "filterBlob": null,
       "queryPlanFiltersBlob": null,
       "tableResultIndex": 0
      }
     },
     "title": ""
    }
   },
   "outputs": [],
   "source": [
    "#Perform some clean up functions for silver layer\n",
    "silver_df = df_read.dropDuplicates()\n",
    "silver_df = silver_df.fillna({'region': 'Unknown', 'amount': 0})\n",
    "display(silver_df)"
   ]
  },
  {
   "cell_type": "code",
   "execution_count": 0,
   "metadata": {
    "application/vnd.databricks.v1+cell": {
     "cellMetadata": {
      "byteLimit": 2048000,
      "rowLimit": 10000
     },
     "inputWidgets": {},
     "nuid": "07ea179d-6c32-46f3-8ea7-9b030b92eaba",
     "showTitle": false,
     "tableResultSettingsMap": {},
     "title": ""
    }
   },
   "outputs": [],
   "source": [
    "#Create a bronze layer and write to a path (Delta format)\n",
    "silver_path = \"/Volumes/databricks_prac/medallion/practise/silver\"\n",
    "silver_df.write.format(\"delta\").mode(\"overwrite\").save(silver_path)\n",
    "\n",
    "df1_read = spark.read.format(\"delta\").load(\"/Volumes/databricks_prac/medallion/practise/silver\")\n",
    "display(df1_read)"
   ]
  },
  {
   "cell_type": "code",
   "execution_count": 0,
   "metadata": {
    "application/vnd.databricks.v1+cell": {
     "cellMetadata": {
      "byteLimit": 2048000,
      "rowLimit": 10000
     },
     "inputWidgets": {},
     "nuid": "00ca7634-ae82-427e-b041-26049f8555ae",
     "showTitle": false,
     "tableResultSettingsMap": {},
     "title": ""
    }
   },
   "outputs": [],
   "source": [
    "#Create a silver layer and write to a path\n",
    "silver_paths = \"/Volumes/databricks_prac/medallion/practise/silver_csvs\"\n",
    "silver_df.write.mode(\"overwrite\").options(header=True).csv(silver_paths)\n",
    "display(silver_paths)"
   ]
  },
  {
   "cell_type": "code",
   "execution_count": 0,
   "metadata": {
    "application/vnd.databricks.v1+cell": {
     "cellMetadata": {
      "byteLimit": 2048000,
      "rowLimit": 10000
     },
     "inputWidgets": {},
     "nuid": "5bb8634b-346e-4832-8760-f7274c08072a",
     "showTitle": false,
     "tableResultSettingsMap": {},
     "title": ""
    }
   },
   "outputs": [],
   "source": [
    "#Read silver csv file\n",
    "df2_read = spark.read.csv(\"/Volumes/databricks_prac/medallion/practise/silver_csvs\", header=True)\n",
    "display(df2_read)"
   ]
  },
  {
   "cell_type": "code",
   "execution_count": 0,
   "metadata": {
    "application/vnd.databricks.v1+cell": {
     "cellMetadata": {
      "byteLimit": 2048000,
      "rowLimit": 10000
     },
     "inputWidgets": {},
     "nuid": "c12aa7f2-b9de-4d40-acb7-15e09cca9eb2",
     "showTitle": false,
     "tableResultSettingsMap": {},
     "title": ""
    }
   },
   "outputs": [],
   "source": [
    "#Perform aggregations and groupings for gold layer\n",
    "from pyspark.sql.functions import *\n",
    "gold_df = df2_read.groupBy(\"region\").agg(sum(\"amount\").alias(\"total amount\"), avg(\"amount\").alias(\"average amount\"))\n",
    "display(gold_df)\n"
   ]
  },
  {
   "cell_type": "code",
   "execution_count": 0,
   "metadata": {
    "application/vnd.databricks.v1+cell": {
     "cellMetadata": {
      "byteLimit": 2048000,
      "rowLimit": 10000
     },
     "inputWidgets": {},
     "nuid": "237f5d24-e1a3-453d-ace9-1cff90d32433",
     "showTitle": false,
     "tableResultSettingsMap": {},
     "title": ""
    }
   },
   "outputs": [],
   "source": [
    "#Create a gold layer and write to a path\n",
    "gold_path = \"/Volumes/databricks_prac/medallion/practise/gold\"\n",
    "gold_df.write.mode(\"overwrite\").options(header=True).csv(gold_path)\n",
    "display(gold_path)"
   ]
  },
  {
   "cell_type": "code",
   "execution_count": 0,
   "metadata": {
    "application/vnd.databricks.v1+cell": {
     "cellMetadata": {
      "byteLimit": 2048000,
      "rowLimit": 10000
     },
     "inputWidgets": {},
     "nuid": "45fd8755-4be7-4edc-94cb-17fb58d48af3",
     "showTitle": false,
     "tableResultSettingsMap": {},
     "title": ""
    }
   },
   "outputs": [],
   "source": [
    "#Read gold\n",
    "df3_read = spark.read.csv(\"/Volumes/databricks_prac/medallion/practise/gold\", header=True)\n",
    "display(df3_read)"
   ]
  }
 ],
 "metadata": {
  "application/vnd.databricks.v1+notebook": {
   "computePreferences": null,
   "dashboards": [],
   "environmentMetadata": {
    "base_environment": "",
    "environment_version": "4"
   },
   "inputWidgetPreferences": null,
   "language": "python",
   "notebookMetadata": {
    "pythonIndentUnit": 4
   },
   "notebookName": "Medallion",
   "widgets": {}
  },
  "language_info": {
   "name": "python"
  }
 },
 "nbformat": 4,
 "nbformat_minor": 0
}
