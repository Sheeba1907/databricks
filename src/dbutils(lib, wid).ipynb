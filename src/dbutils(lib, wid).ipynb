{
 "cells": [
  {
   "cell_type": "code",
   "execution_count": 0,
   "metadata": {
    "application/vnd.databricks.v1+cell": {
     "cellMetadata": {
      "byteLimit": 2048000,
      "rowLimit": 10000
     },
     "inputWidgets": {},
     "nuid": "00a388ae-6a67-4061-a509-c9ca152b8769",
     "showTitle": false,
     "tableResultSettingsMap": {},
     "title": ""
    }
   },
   "outputs": [],
   "source": [
    "#Install pandas\n",
    "%pip install pandas\n",
    "\n",
    "#Restart the Python\n",
    "dbutils.library.restartPython()\n",
    "\n",
    "import pandas as pd\n",
    "data = {\n",
    "    \"Name\": [\"Amit\", \"Ravi\", \"Sneha\", \"Priya\"],\n",
    "    \"Age\": [25, 30, 22, 28],\n",
    "    \"City\": [\"Delhi\", \"Mumbai\", \"Pune\", \"Chennai\"]\n",
    "}\n",
    "df = pd.DataFrame(data)\n",
    "print(df)"
   ]
  },
  {
   "cell_type": "code",
   "execution_count": 0,
   "metadata": {
    "application/vnd.databricks.v1+cell": {
     "cellMetadata": {
      "byteLimit": 2048000,
      "rowLimit": 10000
     },
     "inputWidgets": {},
     "nuid": "850c775c-ee9e-400d-b867-353b8aa2cd54",
     "showTitle": false,
     "tableResultSettingsMap": {},
     "title": ""
    }
   },
   "outputs": [],
   "source": [
    "#Lists installed libraries\n",
    "%pip list"
   ]
  },
  {
   "cell_type": "code",
   "execution_count": 0,
   "metadata": {
    "application/vnd.databricks.v1+cell": {
     "cellMetadata": {
      "byteLimit": 2048000,
      "rowLimit": 10000
     },
     "inputWidgets": {},
     "nuid": "3ee8f809-9a53-489b-bf96-99e43d62253e",
     "showTitle": false,
     "tableResultSettingsMap": {},
     "title": ""
    }
   },
   "outputs": [],
   "source": [
    "#Install torch\n",
    "%pip install torch"
   ]
  },
  {
   "cell_type": "code",
   "execution_count": 0,
   "metadata": {
    "application/vnd.databricks.v1+cell": {
     "cellMetadata": {
      "byteLimit": 2048000,
      "rowLimit": 10000
     },
     "inputWidgets": {},
     "nuid": "1e2a01f5-c597-46ab-809c-644f1de51004",
     "showTitle": false,
     "tableResultSettingsMap": {},
     "title": ""
    }
   },
   "outputs": [],
   "source": [
    "#Uninstall torch\n",
    "%pip uninstall -y torch"
   ]
  },
  {
   "cell_type": "markdown",
   "metadata": {
    "application/vnd.databricks.v1+cell": {
     "cellMetadata": {},
     "inputWidgets": {},
     "nuid": "c6036de8-2a0f-4b35-8225-48148e14c6c6",
     "showTitle": false,
     "tableResultSettingsMap": {},
     "title": ""
    }
   },
   "source": [
    "dbutils Widgets"
   ]
  },
  {
   "cell_type": "code",
   "execution_count": 0,
   "metadata": {
    "application/vnd.databricks.v1+cell": {
     "cellMetadata": {
      "byteLimit": 2048000,
      "rowLimit": 10000
     },
     "inputWidgets": {},
     "nuid": "515fb85c-7437-450f-bfc7-44b0fd75429c",
     "showTitle": false,
     "tableResultSettingsMap": {},
     "title": ""
    }
   },
   "outputs": [],
   "source": [
    "#Text\n",
    "dbutils.widgets.text(\"input\", \"User\", \"Enter your name\")\n",
    "name = dbutils.widgets.get(\"input\")\n",
    "print(\"Entered name:\", name)"
   ]
  },
  {
   "cell_type": "code",
   "execution_count": 0,
   "metadata": {
    "application/vnd.databricks.v1+cell": {
     "cellMetadata": {
      "byteLimit": 2048000,
      "rowLimit": 10000
     },
     "inputWidgets": {},
     "nuid": "e6548630-f321-48e8-a850-65c5319434fd",
     "showTitle": false,
     "tableResultSettingsMap": {},
     "title": ""
    }
   },
   "outputs": [],
   "source": [
    "#Dropdown\n",
    "dbutils.widgets.dropdown(\"input\", \"Choose\", [\"Choose\", \"Milk\", \"Egg\", \"Fruits\"], \"Choose one\")\n",
    "products = dbutils.widgets.get(\"input\")\n",
    "print(f\"Products purchased is {products}\")"
   ]
  },
  {
   "cell_type": "code",
   "execution_count": 0,
   "metadata": {
    "application/vnd.databricks.v1+cell": {
     "cellMetadata": {
      "byteLimit": 2048000,
      "rowLimit": 10000
     },
     "inputWidgets": {},
     "nuid": "6b5c40d2-42bf-49e8-87f2-47434c4bba89",
     "showTitle": false,
     "tableResultSettingsMap": {},
     "title": ""
    }
   },
   "outputs": [],
   "source": [
    "#Combo box\n",
    "dbutils.widgets.combobox(\"input\", \"Choose\", [\"Choose\", \"Milk\", \"Egg\", \"Fruits\"], \"Choose one\")\n",
    "products = dbutils.widgets.get(\"input\")\n",
    "print(f\"Products purchased is {products}\")"
   ]
  },
  {
   "cell_type": "code",
   "execution_count": 0,
   "metadata": {
    "application/vnd.databricks.v1+cell": {
     "cellMetadata": {
      "byteLimit": 2048000,
      "rowLimit": 10000
     },
     "inputWidgets": {},
     "nuid": "9820e8f5-0372-46e8-b6c4-78fca8d5192b",
     "showTitle": false,
     "tableResultSettingsMap": {},
     "title": ""
    }
   },
   "outputs": [],
   "source": [
    "#Multi select\n",
    "dbutils.widgets.multiselect(\"input\", \"Choose\", [\"Choose\", \"Milk\", \"Egg\", \"Fruits\", \"Dal\", \"Rice\", \"Wheat\"], \"Choose one\")\n",
    "products = dbutils.widgets.get(\"input\")\n",
    "print(f\"Products purchased is {products}\")"
   ]
  }
 ],
 "metadata": {
  "application/vnd.databricks.v1+notebook": {
   "computePreferences": null,
   "dashboards": [],
   "environmentMetadata": {
    "base_environment": "",
    "environment_version": "4"
   },
   "inputWidgetPreferences": null,
   "language": "python",
   "notebookMetadata": {
    "pythonIndentUnit": 4
   },
   "notebookName": "dbutils(lib, wid)",
   "widgets": {}
  },
  "language_info": {
   "name": "python"
  }
 },
 "nbformat": 4,
 "nbformat_minor": 0
}
