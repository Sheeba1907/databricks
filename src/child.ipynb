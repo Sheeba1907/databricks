{
 "cells": [
  {
   "cell_type": "code",
   "execution_count": 0,
   "metadata": {
    "application/vnd.databricks.v1+cell": {
     "cellMetadata": {
      "byteLimit": 2048000,
      "rowLimit": 10000
     },
     "inputWidgets": {},
     "nuid": "13398efb-94c5-4c1d-8cc9-8e0681250a08",
     "showTitle": false,
     "tableResultSettingsMap": {},
     "title": ""
    }
   },
   "outputs": [],
   "source": [
    "dbutils.widgets.text(\"input\", \"User\", \"Enter you name\")\n",
    "name = dbutils.widgets.get(\"input\")\n",
    "print(f\"Hello {name}!\")\n",
    "\n",
    "dbutils.notebook.exit(f\"Execution done by {name}\")\n",
    "\n"
   ]
  }
 ],
 "metadata": {
  "application/vnd.databricks.v1+notebook": {
   "computePreferences": null,
   "dashboards": [],
   "environmentMetadata": {
    "base_environment": "",
    "environment_version": "4"
   },
   "inputWidgetPreferences": null,
   "language": "python",
   "notebookMetadata": {
    "pythonIndentUnit": 4
   },
   "notebookName": "child",
   "widgets": {
    "input": {
     "currentValue": "K for Kevin Fernandes",
     "nuid": "0f209445-4bcd-447b-b843-74239ff4c219",
     "typedWidgetInfo": {
      "autoCreated": false,
      "defaultValue": "User",
      "label": "Enter you name",
      "name": "input",
      "options": {
       "widgetDisplayType": "Text",
       "validationRegex": null
      },
      "parameterDataType": "String"
     },
     "widgetInfo": {
      "widgetType": "text",
      "defaultValue": "User",
      "label": "Enter you name",
      "name": "input",
      "options": {
       "widgetType": "text",
       "autoCreated": null,
       "validationRegex": null
      }
     }
    }
   }
  },
  "language_info": {
   "name": "python"
  }
 },
 "nbformat": 4,
 "nbformat_minor": 0
}
